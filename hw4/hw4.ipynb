{
 "cells": [
  {
   "cell_type": "markdown",
   "metadata": {},
   "source": [
    "### Упражнение 1. \n",
    "Создайте класс Point, экземпляры которого будут создаваться из координат x и y."
   ]
  },
  {
   "cell_type": "code",
   "execution_count": 2,
   "metadata": {},
   "outputs": [
    {
     "name": "stdout",
     "output_type": "stream",
     "text": [
      "1 2\n"
     ]
    }
   ],
   "source": [
    "class Point():\n",
    "    def __init__(self, x, y):\n",
    "        self.x = x\n",
    "        self.y = y\n",
    "\n",
    "test = Point(1, 2)\n",
    "print(test.x, test.y)"
   ]
  },
  {
   "cell_type": "markdown",
   "metadata": {},
   "source": [
    "### Упражнение 2. \n",
    "Создайте класс прямоугольник — Rectangle. Метод __init__ принимает две точки — левый нижний и правый верхний угол. Каждая точка представлена экземпляром класса Point.  Реализуйте методы вычисления площади и периметра прямоугольника."
   ]
  },
  {
   "cell_type": "code",
   "execution_count": 4,
   "metadata": {},
   "outputs": [
    {
     "name": "stdout",
     "output_type": "stream",
     "text": [
      "8 4\n"
     ]
    }
   ],
   "source": [
    "class Rectangle():\n",
    "    def __init__(self, ld_corner, ru_corner):\n",
    "        self.ld_corner = ld_corner\n",
    "        self.ru_corner = ru_corner\n",
    "\n",
    "    def perimeter(self):\n",
    "        return ((self.ru_corner.x - self.ld_corner.x) + (self.ru_corner.y - self.ld_corner.y)) * 2\n",
    "\n",
    "    def square(self):\n",
    "        return (self.ru_corner.x - self.ld_corner.x) * (self.ru_corner.y - self.ld_corner.y)\n",
    "    \n",
    "ld_corner, ru_corner = Point(1, 2), Point(3, 4)\n",
    "test = Rectangle(ld_corner, ru_corner)\n",
    "print(test.perimeter(), test.square())"
   ]
  },
  {
   "cell_type": "markdown",
   "metadata": {},
   "source": [
    "### Упражнение 3. \n",
    "Добавьте в класс Rectangle метод contains. Метод принимает точку и возвращает True, если точка находится внутри прямоугольника и False в противном случае.  "
   ]
  },
  {
   "cell_type": "code",
   "execution_count": 7,
   "metadata": {},
   "outputs": [
    {
     "name": "stdout",
     "output_type": "stream",
     "text": [
      "True\n",
      "False\n",
      "False\n"
     ]
    }
   ],
   "source": [
    "class Rectangle():\n",
    "    def __init__(self, ld_corner, ru_corner):\n",
    "        self.ld_corner = ld_corner\n",
    "        self.ru_corner = ru_corner\n",
    "\n",
    "    def perimeter(self):\n",
    "        return ((self.ru_corner.x - self.ld_corner.x) + (self.ru_corner.y - self.ld_corner.y)) * 2\n",
    "\n",
    "    def square(self):\n",
    "        return (self.ru_corner.x - self.ld_corner.x) * (self.ru_corner.y - self.ld_corner.y)\n",
    "    \n",
    "    def contains(self, p: \"Point\"):\n",
    "        return p.x > self.ld_corner.x and p.x < self.ru_corner.x and p.y > self.ld_corner.y and p.y < self.ru_corner.y \n",
    "    \n",
    "ld_corner, ru_corner = Point(1, 2), Point(3, 4)\n",
    "test = Rectangle(ld_corner, ru_corner)\n",
    "print(test.contains(Point(2, 3)))\n",
    "print(test.contains(Point(3, 3)))\n",
    "print(test.contains(Point(10, 10)))"
   ]
  },
  {
   "cell_type": "markdown",
   "metadata": {},
   "source": [
    "### Упражнение 4. \n",
    "Описать класс десятичного счётчика. Он должен обладать внутренней переменной, хранящей текущее значение, методами повышения значения (increment) и понижения (decrement), получения текущего значения get_counter. Учесть, что счётчик не может опускаться ниже 0.  "
   ]
  },
  {
   "cell_type": "code",
   "execution_count": 9,
   "metadata": {},
   "outputs": [
    {
     "name": "stdout",
     "output_type": "stream",
     "text": [
      "1\n",
      "2\n",
      "3\n",
      "4\n",
      "5\n",
      "6\n",
      "7\n",
      "8\n",
      "9\n",
      "10\n",
      "11\n",
      "12\n",
      "13\n",
      "14\n",
      "15\n",
      "0\n"
     ]
    }
   ],
   "source": [
    "class Counter():\n",
    "    def __init__(self):\n",
    "        self.__count = 0\n",
    "\n",
    "    def increment(self):\n",
    "        self.__count += 1\n",
    "\n",
    "    def decrement(self):\n",
    "        if self.__count > 0:\n",
    "            self.__count -= 1\n",
    "    \n",
    "    def get_counter(self):\n",
    "        return self.__count\n",
    "    \n",
    "test = Counter()\n",
    "for i in range(15):\n",
    "    test.increment()\n",
    "    print(test.get_counter())\n",
    "\n",
    "for i in range(20):\n",
    "    test.decrement()\n",
    "\n",
    "print(test.get_counter())"
   ]
  },
  {
   "cell_type": "markdown",
   "metadata": {},
   "source": [
    "### Упражнение 5. \n",
    "Создать класс для часов. Должна быть возможность установить время при создании объекта. Также необходимо реализовать методы, с помощью которых можно добавлять по одной минуте/секунде или по одному часу к текущему времени. Помнить, что значения минут и секунд не могут превышать 59, а часов 23.  "
   ]
  },
  {
   "cell_type": "code",
   "execution_count": 31,
   "metadata": {},
   "outputs": [],
   "source": [
    "class Clock(): # Я был на занятии и видел как делали другие, но я хотел немного поработать с декораторами\n",
    "    def __init__(self, hours: int, minutes: int, seconds: int):\n",
    "        self.seconds = seconds\n",
    "        self.minutes = minutes\n",
    "        self.hours = hours\n",
    "        \n",
    "    @property\n",
    "    def hours(self):\n",
    "        return self._hours\n",
    "\n",
    "    @hours.setter\n",
    "    def hours(self, hours):\n",
    "        if hours > 23:\n",
    "            hours %= 24\n",
    "        self._hours = hours\n",
    "\n",
    "    @property\n",
    "    def minutes(self):\n",
    "        return self._minutes\n",
    "\n",
    "    @minutes.setter\n",
    "    def minutes(self, minutes):\n",
    "        if minutes > 59:\n",
    "            self.add_hours(minutes // 60)\n",
    "        self._minutes = minutes % 60\n",
    "\n",
    "    @property\n",
    "    def seconds(self):\n",
    "        return self._seconds\n",
    "\n",
    "    @seconds.setter\n",
    "    def seconds(self, seconds):\n",
    "        if seconds > 59:\n",
    "            self.add_minutes(seconds // 60)\n",
    "        self._seconds = seconds % 60\n",
    "\n",
    "    def add_seconds(self, seconds):\n",
    "        self.seconds += seconds\n",
    "\n",
    "    def add_minutes(self, minutes):\n",
    "        self.minutes += minutes\n",
    "\n",
    "    def add_hours(self, hours):\n",
    "        self.hours += hours\n",
    "\n",
    "    def __str__(self):\n",
    "        return str(self.hours) + \":\" + str(self.minutes) + \":\" + str(self.seconds)\n",
    "\n",
    "    def __repr__(self):\n",
    "        return self.__str__()"
   ]
  },
  {
   "cell_type": "code",
   "execution_count": 32,
   "metadata": {},
   "outputs": [
    {
     "name": "stdout",
     "output_type": "stream",
     "text": [
      "20:20:59\n",
      "20:21:0\n",
      "21:19:29\n",
      "22:19:30\n",
      "0:19:30\n",
      "0:59:30\n",
      "2:0:30\n",
      "6:0:30\n",
      "23:0:30\n",
      "1:0:30\n"
     ]
    }
   ],
   "source": [
    "my_clock = Clock(20, 20, 20)\n",
    "my_clock.add_seconds(39)\n",
    "print(my_clock.__repr__())\n",
    "\n",
    "my_clock.add_seconds(1)\n",
    "print(my_clock.__repr__())\n",
    "\n",
    "my_clock.add_seconds(3509)\n",
    "print(my_clock.__repr__())\n",
    "\n",
    "my_clock.add_seconds(3601)\n",
    "print(my_clock.__repr__())\n",
    "\n",
    "my_clock.add_seconds(7200)\n",
    "print(my_clock.__repr__())\n",
    "\n",
    "my_clock.add_minutes(40)\n",
    "print(my_clock.__repr__())\n",
    "\n",
    "my_clock.add_minutes(61)\n",
    "print(my_clock.__repr__())\n",
    "\n",
    "my_clock.add_minutes(6000)\n",
    "print(my_clock.__repr__())\n",
    "\n",
    "my_clock.add_hours(17)\n",
    "print(my_clock.__repr__())\n",
    "\n",
    "my_clock.add_hours(2)\n",
    "print(my_clock.__repr__())"
   ]
  },
  {
   "cell_type": "markdown",
   "metadata": {},
   "source": [
    "### Упражнение 6. \n",
    "Доработать предыдущую задачу, чтобы можно было складывать двое часов друг с другом. Для перегрузки оператора + использовать метод __add__(self, other).  "
   ]
  },
  {
   "cell_type": "code",
   "execution_count": 1,
   "metadata": {},
   "outputs": [],
   "source": [
    "class Clock(): # Я был на занятии и видел как делали другие, но я хотел немного поработать с декораторами\n",
    "    def __init__(self, hours: int, minutes: int, seconds: int):\n",
    "        self.seconds = seconds\n",
    "        self.minutes = minutes\n",
    "        self.hours = hours\n",
    "        \n",
    "    @property\n",
    "    def hours(self):\n",
    "        return self._hours\n",
    "\n",
    "    @hours.setter\n",
    "    def hours(self, hours):\n",
    "        if hours > 23:\n",
    "            hours %= 24\n",
    "        self._hours = hours\n",
    "\n",
    "    @property\n",
    "    def minutes(self):\n",
    "        return self._minutes\n",
    "\n",
    "    @minutes.setter\n",
    "    def minutes(self, minutes):\n",
    "        if minutes > 59:\n",
    "            self.add_hours(minutes // 60)\n",
    "        self._minutes = minutes % 60\n",
    "\n",
    "    @property\n",
    "    def seconds(self):\n",
    "        return self._seconds\n",
    "\n",
    "    @seconds.setter\n",
    "    def seconds(self, seconds):\n",
    "        if seconds > 59:\n",
    "            self.add_minutes(seconds // 60)\n",
    "        self._seconds = seconds % 60\n",
    "\n",
    "    def add_seconds(self, seconds):\n",
    "        self.seconds += seconds\n",
    "\n",
    "    def add_minutes(self, minutes):\n",
    "        self.minutes += minutes\n",
    "\n",
    "    def add_hours(self, hours):\n",
    "        self.hours += hours\n",
    "\n",
    "    def __add__(self, other):\n",
    "        if isinstance(other, Clock):\n",
    "            return Clock(self.hours + other.hours, self.minutes + other.minutes, self.seconds + other.seconds)\n",
    "        raise ValueError(\"Некорректный тип данных для сложения\")\n",
    "\n",
    "    def __str__(self):\n",
    "        return str(self.hours) + \":\" + str(self.minutes) + \":\" + str(self.seconds)\n",
    "\n",
    "    def __repr__(self):\n",
    "        return self.__str__()"
   ]
  },
  {
   "cell_type": "code",
   "execution_count": 2,
   "metadata": {},
   "outputs": [
    {
     "name": "stdout",
     "output_type": "stream",
     "text": [
      "16:40:40\n"
     ]
    }
   ],
   "source": [
    "my_clock1 = Clock(20, 20, 20)\n",
    "my_clock2 = Clock(20, 20, 20)\n",
    "print(my_clock1 + my_clock2)"
   ]
  },
  {
   "cell_type": "markdown",
   "metadata": {},
   "source": [
    "### Упражнение 7. \n",
    "Создать классы для травоядного животного и травы. Животное должно уметь поедать траву, если испытывает голод, в противном случае отказываться от лакомства. Трава должна обладать питательностью, в зависимости от которой животное будет насыщаться.  "
   ]
  },
  {
   "cell_type": "code",
   "execution_count": 7,
   "metadata": {},
   "outputs": [],
   "source": [
    "class Herbivore():\n",
    "    def __init__(self):\n",
    "        self.hunger = 0\n",
    "\n",
    "    def eat_grass(self, grass: \"Grass\"):\n",
    "        if self.hunger > 0:\n",
    "            print(\"Животное съело еду\")\n",
    "            self.hunger -= grass.value\n",
    "        else:\n",
    "            print(\"Животное отказалось от лакомства\")\n",
    "        \n",
    "    def starve(self):\n",
    "        self.hunger += 10\n",
    "\n",
    "class Grass():\n",
    "    def __init__(self, value):\n",
    "        self.value = value"
   ]
  },
  {
   "cell_type": "code",
   "execution_count": 8,
   "metadata": {},
   "outputs": [
    {
     "name": "stdout",
     "output_type": "stream",
     "text": [
      "Животное съело еду\n",
      "Животное съело еду\n",
      "Животное отказалось от лакомства\n",
      "Животное отказалось от лакомства\n"
     ]
    }
   ],
   "source": [
    "cow = Herbivore()\n",
    "\n",
    "dandelion = Grass(3)\n",
    "zucchini = Grass(15) # Пусть кабачок будет травой\n",
    "carrot = Grass(5)\n",
    "\n",
    "cow.starve()\n",
    "cow.eat_grass(zucchini)\n",
    "cow.starve()\n",
    "cow.eat_grass(zucchini)\n",
    "cow.eat_grass(dandelion)\n",
    "cow.eat_grass(carrot)"
   ]
  },
  {
   "cell_type": "markdown",
   "metadata": {},
   "source": [
    "### Упражнение 8 (Задача просто на классы, без обработки исключений).\n",
    "Для одной задачи необходимо реализовать следующее - при соединении двух элементов получается новый. У нас есть 4 базовых элемента: Вода, Воздух, Огонь, Земля. Из них как раз и получаются новые: Шторм, Пар, Грязь, Молния, Пыль, Лава.  \n",
    "\n",
    "Вот таблица преобразований:  \n",
    "- Вода + Воздух = Шторм  \n",
    "- Вода + Огонь = Пар  \n",
    "- Вода + Земля = Грязь  \n",
    "- Воздух + Огонь = Молния  \n",
    "- Воздух + Земля = Пыль  \n",
    "- Огонь + Земля = Лава  \n",
    "\n",
    "Напишите программу, которая реализует все эти элементы. Каждый элемент необходимо организовать как отдельный класс. Если результат не определен - то возвращается None.\n",
    "Примечание: сложение объектов можно реализовывать через магический метод add, вот пример использования:  \n",
    "\n",
    "```python\n",
    "class Example_1:\n",
    "    def __add__(self, other):\n",
    "        return Example_2()\n",
    "\n",
    "class Example_2:\n",
    "    answer = 'сложили два класса и вывели'\n",
    "\n",
    "\n",
    "a = Example_1()\n",
    "b = Example_2()\n",
    "c = a + b\n",
    "print(c.answer)\n",
    "```\n",
    "\n",
    "Дополнительно: придумайте свой элемент (или элементы), а также реализуйте его взаимодействие с остальными элементами"
   ]
  },
  {
   "cell_type": "code",
   "execution_count": 11,
   "metadata": {},
   "outputs": [],
   "source": [
    "class Water():\n",
    "    def __init__(self):\n",
    "        pass\n",
    "\n",
    "    def __add__(self, other):\n",
    "        if isinstance(other, Air):\n",
    "            return Storm()\n",
    "        elif isinstance(other, Fire):\n",
    "            return Steam()\n",
    "        elif isinstance(other, Earth):\n",
    "            return Mess()\n",
    "        else:\n",
    "            return None\n",
    "        \n",
    "class Air():\n",
    "    def __init__(self):\n",
    "        pass\n",
    "\n",
    "    def __add__(self, other):\n",
    "        if isinstance(other, Water):\n",
    "            return Storm()\n",
    "        elif isinstance(other, Fire):\n",
    "            return Lightning()\n",
    "        elif isinstance(other, Earth):\n",
    "            return Dust()\n",
    "        else:\n",
    "            return None\n",
    "\n",
    "class Fire():\n",
    "    def __init__(self):\n",
    "        pass\n",
    "\n",
    "    def __add__(self, other):\n",
    "        if isinstance(other, Water):\n",
    "            return Steam()\n",
    "        elif isinstance(other, Earth):\n",
    "            return Lava()\n",
    "        elif isinstance(other, Air):\n",
    "            return Lightning()\n",
    "        else:\n",
    "            return None\n",
    "\n",
    "class Earth():\n",
    "    def __init__(self):\n",
    "        pass\n",
    "\n",
    "    def __add__(self, other):\n",
    "        if isinstance(other, Water):\n",
    "            return Mess()\n",
    "        elif isinstance(other, Air):\n",
    "            return Dust()\n",
    "        elif isinstance(other, Fire):\n",
    "            return Lava()\n",
    "        else:\n",
    "            return None\n",
    "        \n",
    "\n",
    "class Storm():\n",
    "    def __init__(self):\n",
    "        pass\n",
    "\n",
    "    def __add__(self, other):\n",
    "        return None\n",
    "    \n",
    "class Steam():\n",
    "    def __init__(self):\n",
    "        pass\n",
    "\n",
    "    def __add__(self, other):\n",
    "        return None\n",
    "    \n",
    "class Mess():\n",
    "    def __init__(self):\n",
    "        pass\n",
    "\n",
    "    def __add__(self, other):\n",
    "        return None\n",
    "    \n",
    "class Lightning():\n",
    "    def __init__(self):\n",
    "        pass\n",
    "\n",
    "    def __add__(self, other):\n",
    "        return None\n",
    "    \n",
    "class Dust():\n",
    "    def __init__(self):\n",
    "        pass\n",
    "\n",
    "    def __add__(self, other):\n",
    "        return None\n",
    "\n",
    "class Lava():\n",
    "    def __init__(self):\n",
    "        pass\n",
    "\n",
    "    def __add__(self, other):\n",
    "        return None"
   ]
  },
  {
   "cell_type": "code",
   "execution_count": 13,
   "metadata": {},
   "outputs": [
    {
     "name": "stdout",
     "output_type": "stream",
     "text": [
      "<__main__.Storm object at 0x000001712A289DB0>\n",
      "<__main__.Steam object at 0x000001712904E200>\n",
      "<__main__.Mess object at 0x000001712A24C670>\n",
      "<__main__.Lightning object at 0x000001712904E200>\n",
      "<__main__.Dust object at 0x000001712A24C670>\n",
      "<__main__.Lava object at 0x000001712904E200>\n",
      "None\n",
      "None\n",
      "None\n",
      "None\n"
     ]
    }
   ],
   "source": [
    "water = Water()\n",
    "air = Air()\n",
    "fire = Fire()\n",
    "earth = Earth()\n",
    "print(water + air)\n",
    "print(water + fire)\n",
    "print(water + earth)\n",
    "print(air + fire)\n",
    "print(air + earth)\n",
    "print(fire + earth)\n",
    "print(air + air)\n",
    "print(fire + (water + air))\n",
    "print(earth + earth)\n",
    "print(water + (water + earth))"
   ]
  },
  {
   "cell_type": "markdown",
   "metadata": {},
   "source": [
    "### Упражнение 9.\n",
    "Программа написана верно, однако содержит места потенциальных ошибок.  \n",
    "найдите потенциальные источники ошибок (укажите номера строк в строке документации);  \n",
    "используя конструкцию try добавьте в код обработку соответствующих исключений.  "
   ]
  },
  {
   "cell_type": "code",
   "execution_count": 18,
   "metadata": {},
   "outputs": [
    {
     "name": "stdout",
     "output_type": "stream",
     "text": [
      "Список клиентов (3): \n",
      "1. Василий Иванов 100\n",
      "2. Екатерина Белых 1500\n",
      "3. Михаил Лермонтов 400\n",
      "Перевод от Екатерина Белых для Василий Иванов...\n",
      "на счету account_from не хватает денег для перевода\n",
      "OK!\n",
      "Список клиентов (3): \n",
      "1. Василий Иванов 100\n",
      "2. Екатерина Белых 1500\n",
      "3. Михаил Лермонтов 400\n"
     ]
    }
   ],
   "source": [
    "class NoMoneyToWithdrawError(Exception):\n",
    "   def __init__(self, message):\n",
    "       super().__init__(message)\n",
    "\n",
    "\n",
    "class PaymentError(Exception):\n",
    "   def __init__(self, message):\n",
    "       super().__init__(message)\n",
    "\n",
    "\n",
    "def print_accounts(accounts):\n",
    "   \"\"\"Печать аккаунтов.\"\"\"\n",
    "   print(\"Список клиентов ({}): \".format(len(accounts)))\n",
    "   for i, (name, value) in enumerate(accounts.items(), start=1):\n",
    "       print(\"{}. {} {}\".format(i, name, value))\n",
    "\n",
    "\n",
    "def transfer_money(accounts, account_from, account_to, value):\n",
    "    \"\"\"Выполнить перевод 'value' денег со счета 'account_from' на 'account_to'.\n",
    "\n",
    "    При переводе денежных средств необходимо учитывать:\n",
    "        - хватает ли денег на счету, с которого осуществляется перевод;\n",
    "        - перевод состоит из уменьшения баланса первого счета и увеличения\n",
    "            баланса второго; если хотя бы на одном этапе происходит ошибка,\n",
    "            аккаунты должны быть приведены в первоначальное состояние\n",
    "            (механизм транзакции)\n",
    "            см. https://ru.wikipedia.org/wiki/Транзакция_(информатика).\n",
    "\n",
    "    Исключения (raise):\n",
    "        - NoMoneyToWithdrawError: на счету 'account_from'\n",
    "                                    не хватает денег для перевода;\n",
    "        - PaymentError: ошибка при переводе.\n",
    "    \"\"\"\n",
    "    if value < 0 or accounts.get(account_from) == None or accounts.get(account_to) == None:\n",
    "        raise PaymentError(\"ошибка при переводе\")\n",
    "    elif accounts[account_from] < value:\n",
    "        raise NoMoneyToWithdrawError(\"на счету account_from не хватает денег для перевода\")\n",
    "\n",
    "\n",
    "if __name__ == \"__main__\":\n",
    "    accounts = {\n",
    "        \"Василий Иванов\": 100,\n",
    "        \"Екатерина Белых\": 1500,\n",
    "        \"Михаил Лермонтов\": 400\n",
    "    }\n",
    "    print_accounts(accounts)\n",
    "\n",
    "    payment_info = {\n",
    "        \"account_from\": \"Екатерина Белых\",\n",
    "        \"account_to\": \"Василий Иванов\"\n",
    "    }\n",
    "\n",
    "    print(\"Перевод от {account_from} для {account_to}...\".\n",
    "            format(**payment_info))\n",
    "\n",
    "    payment_info[\"value\"] = int(input(\"Сумма = \"))\n",
    "\n",
    "    try:\n",
    "        transfer_money(accounts, **payment_info)\n",
    "    except PaymentError:\n",
    "        print(\"ошибка при переводе\")\n",
    "    except NoMoneyToWithdrawError:\n",
    "        print(\"на счету account_from не хватает денег для перевода\")\n",
    "\n",
    "    print(\"OK!\")\n",
    "\n",
    "    print_accounts(accounts)"
   ]
  },
  {
   "cell_type": "markdown",
   "metadata": {},
   "source": [
    "### Упражнение 10.\n",
    "Напишите программу, которая будет суммировать все числа, введенные пользователем, игнорируя при этом нечисловой ввод. Выводите на экран текущую сумму чисел после каждого очередного ввода. Ввод пользователем значения, не являющегося числовым, должен приводить к появлению соответствующего предупреждения, после чего пользователю должно быть предложено ввести следующее число. Выход из программы будет осуществляться путем пропуска ввода. Удостоверьтесь, что ваша программа корректно обрабатывает целочисленные значения и числа с плавающей запятой."
   ]
  },
  {
   "cell_type": "code",
   "execution_count": 20,
   "metadata": {},
   "outputs": [
    {
     "name": "stdout",
     "output_type": "stream",
     "text": [
      "Сумма введённых чисел: 1.32423\n",
      "Сумма введённых чисел: 232.32423\n",
      "Сумма введённых чисел: 4775.32423\n",
      "Сумма введённых чисел: 4541.32423\n",
      "Сумма введённых чисел: 1107.3242300000002\n",
      "Сумма введённых чисел: 0.32423000000017055\n",
      "Введённое выражение не является числовым, введите следующее число\n",
      "Сумма введённых чисел: 0.32423000000017055\n",
      "Введённое выражение не является числовым, введите следующее число\n",
      "Сумма введённых чисел: 0.32423000000017055\n",
      "Сумма введённых чисел: 0.00023000000017053823\n",
      "Сумма введённых чисел: 345.00023000000016\n",
      "Сумма введённых чисел: 345.00023000000016\n"
     ]
    }
   ],
   "source": [
    "num_sum = 0\n",
    "while True:\n",
    "    n = input()\n",
    "    if n:\n",
    "        try:\n",
    "            float(n)\n",
    "            try:\n",
    "                num_sum += int(n)\n",
    "            except:\n",
    "                num_sum += float(n)\n",
    "        except:\n",
    "            print(\"Введённое выражение не является числовым, введите следующее число\")\n",
    "        print(f\"Сумма введённых чисел: {num_sum}\")\n",
    "    else:\n",
    "        print(f\"Сумма введённых чисел: {num_sum}\")\n",
    "        break"
   ]
  },
  {
   "cell_type": "markdown",
   "metadata": {},
   "source": [
    "### Упражнение 11.\n",
    "Напишите программу, выполняющую перевод из буквенных оценок в числовые и обратно. Программа должна позволять пользователю вводить несколько значений для перевода – по одному в каждой строке. Для начала предпримите попытку сконвертировать введенное пользователем значение из числового в буквенное. Если возникнет исключение, попробуйте выполнить обратное преобразование – из буквенного в числовое. Если и эта попытка окончится неудачей, выведите предупреждение о том, что введенное значение не является допустимым. Пусть ваша программа конвертирует оценки до тех пор, пока пользователь не оставит ввод пустым. При решении данного задания вам поможет таблица перевода оценок\n",
    "\n",
    "| Числовой эквивалент | Буквенное обозначение |\n",
    "|:-----:|:-----:|\n",
    "| 5 | A |\n",
    "| 4 | B |\n",
    "| 4 | C |\n",
    "| 3 | D |\n",
    "| 3 | E |\n",
    "| 2 | F |\n"
   ]
  },
  {
   "cell_type": "code",
   "execution_count": 32,
   "metadata": {},
   "outputs": [
    {
     "name": "stdout",
     "output_type": "stream",
     "text": [
      "Преобразованное значение: A\n",
      "Преобразованное значение: B\n",
      "Преобразованное значение: D\n",
      "Преобразованное значение: F\n",
      "Введённое значение не является допустимым\n",
      "Преобразованное значение: 5\n",
      "Преобразованное значение: 4\n",
      "Преобразованное значение: 4\n",
      "Преобразованное значение: 3\n",
      "Преобразованное значение: 3\n",
      "Преобразованное значение: 2\n",
      "Введённое значение не является допустимым\n",
      "Введённое значение не является допустимым\n",
      "Введённое значение не является допустимым\n",
      "Введённое значение не является допустимым\n"
     ]
    }
   ],
   "source": [
    "# Таблицу из задания не очень понял потому что там было два раза В и Р... Поэтому взял из интернета\n",
    "conv = {\"5\": \"A\", \"4\": \"B\", \"3\": \"D\", \"2\": \"F\", \"A\": \"5\", \"B\": \"4\", \"C\": \"4\", \"D\": \"3\", \"E\": \"3\", \"F\": \"2\"}\n",
    "\n",
    "while True:\n",
    "    n = input()\n",
    "    if n:\n",
    "        if len(n) == 1: # Во всех остальных случаях перевод будет некорректным\n",
    "            if n.isdigit() and 1 < int(n) < 6:\n",
    "                print(f\"Преобразованное значение: {conv[n]}\")\n",
    "            elif 64 < ord(n) < 71: # ord(\"A\") - 1 < ord(n) < ord(\"F\") + 1\n",
    "                print(f\"Преобразованное значение: {conv[n]}\")\n",
    "            else:\n",
    "                print(\"Введённое значение не является допустимым\")\n",
    "        else:\n",
    "            print(\"Введённое значение не является допустимым\")\n",
    "    else:\n",
    "        break"
   ]
  }
 ],
 "metadata": {
  "kernelspec": {
   "display_name": "6.86x",
   "language": "python",
   "name": "python3"
  },
  "language_info": {
   "codemirror_mode": {
    "name": "ipython",
    "version": 3
   },
   "file_extension": ".py",
   "mimetype": "text/x-python",
   "name": "python",
   "nbconvert_exporter": "python",
   "pygments_lexer": "ipython3",
   "version": "3.10.4"
  }
 },
 "nbformat": 4,
 "nbformat_minor": 2
}
